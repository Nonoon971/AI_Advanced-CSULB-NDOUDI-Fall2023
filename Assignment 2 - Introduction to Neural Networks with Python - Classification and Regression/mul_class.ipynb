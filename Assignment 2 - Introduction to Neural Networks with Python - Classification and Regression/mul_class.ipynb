{
 "cells": [
  {
   "cell_type": "markdown",
   "id": "abb8af16-19df-4f3a-a33b-3bd662dbfde0",
   "metadata": {},
   "source": [
    "# Classifying newswires: a multiclass classification example\n",
    "_<span style=\"float:right; font-size:12px;\">Norine NDOUDI</span>_"
   ]
  },
  {
   "cell_type": "markdown",
   "id": "e70e5fde-04ef-4339-9ece-34e9d1d880b2",
   "metadata": {},
   "source": [
    "### **Loading the Reuters dataset**"
   ]
  },
  {
   "cell_type": "code",
   "execution_count": 1,
   "id": "513da2f6-954b-4dc3-87b3-ca1ac7f910e3",
   "metadata": {},
   "outputs": [
    {
     "name": "stdout",
     "output_type": "stream",
     "text": [
      "? ? ? said as a result of its december acquisition of space co it expects earnings per share in 1987 of 1 15 to 1 30 dlrs per share up from 70 cts in 1986 the company said pretax net should rise to nine to 10 mln dlrs from six mln dlrs in 1986 and rental operation revenues to 19 to 22 mln dlrs from 12 5 mln dlrs it said cash flow per share this year should be 2 50 to three dlrs reuter 3\n",
      "Newswire topic: 3\n"
     ]
    }
   ],
   "source": [
    "from keras.datasets import reuters\n",
    "\n",
    "(train_data, train_labels), (test_data, test_labels) = reuters.load_data(\n",
    "    num_words=10000)\n",
    "\n",
    "#Decoded some newswires\n",
    "word_index = reuters.get_word_index()\n",
    "reverse_word_index = dict([(value, key) for (key, value) in word_index.items()])\n",
    "decoded_newswire = ' '.join([reverse_word_index.get(i - 3, '?') for i in\n",
    "    train_data[0]])\n",
    "\n",
    "print(decoded_newswire)\n",
    "print(\"Newswire topic: \" + str(train_labels[0]))"
   ]
  },
  {
   "cell_type": "markdown",
   "id": "fcab491d-33b7-47de-a828-9fc930591bb5",
   "metadata": {},
   "source": [
    "### **Preparing the data**"
   ]
  },
  {
   "cell_type": "code",
   "execution_count": 2,
   "id": "2d704a56-c86c-4d2e-9b28-28560e6da6d1",
   "metadata": {},
   "outputs": [],
   "source": [
    "import numpy as np\n",
    "\n",
    "#Vectorizing the data\n",
    "def vectorize_sequences(sequences, dimension=10000):\n",
    "    results = np.zeros((len(sequences), dimension))\n",
    "    for i, sequence in enumerate(sequences):\n",
    "        results[i, sequence] = 1.\n",
    "    return results\n",
    "\n",
    "x_train = vectorize_sequences(train_data)          \n",
    "x_test = vectorize_sequences(test_data) "
   ]
  },
  {
   "cell_type": "code",
   "execution_count": 18,
   "id": "56719fed-a3a4-4140-b784-4255983f936b",
   "metadata": {},
   "outputs": [
    {
     "data": {
      "text/plain": [
       "array([list([1, 2, 2, 8, 43, 10, 447, 5, 25, 207, 270, 5, 3095, 111, 16, 369, 186, 90, 67, 7, 89, 5, 19, 102, 6, 19, 124, 15, 90, 67, 84, 22, 482, 26, 7, 48, 4, 49, 8, 864, 39, 209, 154, 6, 151, 6, 83, 11, 15, 22, 155, 11, 15, 7, 48, 9, 4579, 1005, 504, 6, 258, 6, 272, 11, 15, 22, 134, 44, 11, 15, 16, 8, 197, 1245, 90, 67, 52, 29, 209, 30, 32, 132, 6, 109, 15, 17, 12]),\n",
       "       list([1, 3267, 699, 3434, 2295, 56, 2, 7511, 9, 56, 3906, 1073, 81, 5, 1198, 57, 366, 737, 132, 20, 4093, 7, 2, 49, 2295, 2, 1037, 3267, 699, 3434, 8, 7, 10, 241, 16, 855, 129, 231, 783, 5, 4, 587, 2295, 2, 2, 775, 7, 48, 34, 191, 44, 35, 1795, 505, 17, 12]),\n",
       "       list([1, 53, 12, 284, 15, 14, 272, 26, 53, 959, 32, 818, 15, 14, 272, 26, 39, 684, 70, 11, 14, 12, 3886, 18, 180, 183, 187, 70, 11, 14, 102, 32, 11, 29, 53, 44, 704, 15, 14, 19, 758, 15, 53, 959, 47, 1013, 15, 14, 19, 132, 15, 39, 965, 32, 11, 14, 147, 72, 11, 180, 183, 187, 44, 11, 14, 102, 19, 11, 123, 186, 90, 67, 960, 4, 78, 13, 68, 467, 511, 110, 59, 89, 90, 67, 1390, 55, 2678, 92, 617, 80, 1274, 46, 905, 220, 13, 4, 346, 48, 235, 629, 5, 211, 5, 1118, 7, 2, 81, 5, 187, 11, 15, 9, 1709, 201, 5, 47, 3615, 18, 478, 4514, 5, 1118, 7, 232, 2, 71, 5, 160, 63, 11, 9, 2, 81, 5, 102, 59, 11, 17, 12]),\n",
       "       ...,\n",
       "       list([1, 141, 3890, 387, 81, 8, 16, 1629, 10, 340, 1241, 850, 31, 56, 3890, 691, 9, 1241, 71, 9, 5985, 2, 2, 699, 2, 2, 2, 699, 244, 5945, 4, 49, 8, 4, 656, 850, 33, 2993, 9, 2139, 340, 3371, 1493, 9, 2, 22, 2, 1094, 687, 83, 35, 15, 257, 6, 57, 9190, 7, 4, 5956, 654, 5, 2, 6191, 1371, 4, 49, 8, 16, 369, 646, 6, 1076, 7, 124, 407, 17, 12]),\n",
       "       list([1, 53, 46, 957, 26, 14, 74, 132, 26, 39, 46, 258, 3614, 18, 14, 74, 134, 5131, 18, 88, 2321, 72, 11, 14, 1842, 32, 11, 123, 383, 89, 39, 46, 235, 10, 864, 728, 5, 258, 44, 11, 15, 22, 753, 9, 42, 92, 131, 728, 5, 69, 312, 11, 15, 22, 222, 2, 3237, 383, 48, 39, 74, 235, 10, 864, 276, 5, 61, 32, 11, 15, 21, 4, 211, 5, 126, 1072, 42, 92, 131, 46, 19, 352, 11, 15, 22, 710, 220, 9, 42, 92, 131, 276, 5, 59, 61, 11, 15, 22, 10, 455, 7, 1172, 137, 336, 1325, 6, 1532, 142, 971, 6463, 43, 359, 5, 4, 326, 753, 364, 17, 12]),\n",
       "       list([1, 227, 2406, 91, 2, 125, 2855, 21, 4, 3976, 76, 7, 4, 757, 481, 3976, 790, 5259, 5654, 9, 111, 149, 8, 7, 10, 76, 223, 51, 4, 417, 8, 1047, 91, 6917, 1688, 340, 7, 194, 9411, 6, 1894, 21, 127, 2151, 2394, 1456, 6, 3034, 4, 329, 433, 7, 65, 87, 1127, 10, 8219, 1475, 290, 9, 21, 567, 16, 1926, 24, 4, 76, 209, 30, 4033, 6655, 5654, 8, 4, 60, 8, 4, 966, 308, 40, 2575, 129, 2, 295, 277, 1071, 9, 24, 286, 2114, 234, 222, 9, 4, 906, 3994, 8519, 114, 5758, 1752, 7, 4, 113, 17, 12])],\n",
       "      dtype=object)"
      ]
     },
     "execution_count": 18,
     "metadata": {},
     "output_type": "execute_result"
    }
   ],
   "source": [
    "train_data"
   ]
  },
  {
   "cell_type": "code",
   "execution_count": 20,
   "id": "194cce09-4fab-4c5b-9cff-4208bd7caa3a",
   "metadata": {},
   "outputs": [
    {
     "data": {
      "text/plain": [
       "(10000,)"
      ]
     },
     "execution_count": 20,
     "metadata": {},
     "output_type": "execute_result"
    }
   ],
   "source": []
  },
  {
   "cell_type": "markdown",
   "id": "c6905397-f0cc-4c3d-ab27-450f3ba0b701",
   "metadata": {},
   "source": [
    "Because we are in a categorical data case, we won't cast the label list as an integer tensor as the binary classification file where we cast them in a float tensor. So we will use the one-hot encoding."
   ]
  },
  {
   "cell_type": "code",
   "execution_count": 11,
   "id": "8185aac3-3ff8-4e41-9f82-ce36ad15eede",
   "metadata": {},
   "outputs": [],
   "source": [
    "def to_one_hot(labels, dimension=46):\n",
    "    results = np.zeros((len(labels), dimension))\n",
    "    for i, label in enumerate(labels):\n",
    "        results[i, label] = 1.\n",
    "    return results\n",
    "\n",
    "one_hot_train_labels = to_one_hot(train_labels)\n",
    "one_hot_test_labels = to_one_hot(test_labels)"
   ]
  },
  {
   "cell_type": "markdown",
   "id": "f75f158d-be5f-4714-b938-fba85d8e9aec",
   "metadata": {},
   "source": [
    "### **Building the neural network**"
   ]
  },
  {
   "cell_type": "markdown",
   "id": "d677fb87-117c-47b1-8846-1488b102343b",
   "metadata": {},
   "source": [
    "The number of output classes isn't 2 anymore but 46. Because we have a larger output space we won't use 16-dimensional intermediate layers that may be too limited to learn to separate 46 different classes. We will use larger layers with 64 units."
   ]
  },
  {
   "cell_type": "code",
   "execution_count": 6,
   "id": "b4dfa664-9893-4bb6-8756-ef68e5c7ebdd",
   "metadata": {},
   "outputs": [],
   "source": [
    "from keras import models\n",
    "from keras import layers\n",
    "\n",
    "model = models.Sequential()\n",
    "model.add(layers.Dense(64, activation='relu', input_shape=(10000,)))\n",
    "model.add(layers.Dense(64, activation='relu'))\n",
    "model.add(layers.Dense(46, activation='softmax'))"
   ]
  },
  {
   "cell_type": "markdown",
   "id": "c7133769-2938-4c14-bc2f-fef709980657",
   "metadata": {},
   "source": [
    "The last layer uses a *softmax* activation. In that case, the network will output a probability distribution over the 46 different output classes. That is to say it will produce a 46-dimensional output vector, where output[i] is the probability that the sample belongs to class i (so belongs to the topic)."
   ]
  },
  {
   "cell_type": "markdown",
   "id": "2c3e6b80-83cc-442a-8265-2d4b9111de24",
   "metadata": {},
   "source": [
    "### **Choosing a loss function and an optimizer**"
   ]
  },
  {
   "cell_type": "markdown",
   "id": "9bfe254d-9f64-49f3-b227-fd438f7acf51",
   "metadata": {},
   "source": [
    "We encode the labels with the one-hot encoding method. In that case, we will use the ***categorical_crossentropy loss function***.  \n",
    "If we would have chosen to cast them as an integer tensor, we would the *sparse_categorical_crossentropy* instead."
   ]
  },
  {
   "cell_type": "code",
   "execution_count": 7,
   "id": "ccd60dd4-ba0b-43f1-a938-c418d8e6bbe2",
   "metadata": {},
   "outputs": [],
   "source": [
    "#Configure the model with the rmsprop optimizer and the categorical_crossentropy loss function. \n",
    "model.compile(optimizer='rmsprop',\n",
    "              loss='categorical_crossentropy',\n",
    "              metrics=['accuracy'])"
   ]
  },
  {
   "cell_type": "markdown",
   "id": "7df741f3-9665-4ea6-bec5-c65d8e599340",
   "metadata": {},
   "source": [
    "### **Training the model**"
   ]
  },
  {
   "cell_type": "code",
   "execution_count": 8,
   "id": "b384eb76-16ea-4769-888f-eddb62cb8e71",
   "metadata": {},
   "outputs": [
    {
     "name": "stdout",
     "output_type": "stream",
     "text": [
      "Epoch 1/20\n",
      "16/16 [==============================] - 3s 69ms/step - loss: 2.8143 - accuracy: 0.4590 - val_loss: 1.9111 - val_accuracy: 0.6180\n",
      "Epoch 2/20\n",
      "16/16 [==============================] - 1s 47ms/step - loss: 1.5918 - accuracy: 0.6827 - val_loss: 1.4011 - val_accuracy: 0.6860\n",
      "Epoch 3/20\n",
      "16/16 [==============================] - 1s 47ms/step - loss: 1.1979 - accuracy: 0.7358 - val_loss: 1.2092 - val_accuracy: 0.7370\n",
      "Epoch 4/20\n",
      "16/16 [==============================] - 1s 46ms/step - loss: 0.9771 - accuracy: 0.7900 - val_loss: 1.0812 - val_accuracy: 0.7630\n",
      "Epoch 5/20\n",
      "16/16 [==============================] - 1s 46ms/step - loss: 0.8114 - accuracy: 0.8279 - val_loss: 1.0149 - val_accuracy: 0.7780\n",
      "Epoch 6/20\n",
      "16/16 [==============================] - 1s 50ms/step - loss: 0.6765 - accuracy: 0.8564 - val_loss: 0.9693 - val_accuracy: 0.7900\n",
      "Epoch 7/20\n",
      "16/16 [==============================] - 1s 56ms/step - loss: 0.5708 - accuracy: 0.8771 - val_loss: 0.9088 - val_accuracy: 0.8080\n",
      "Epoch 8/20\n",
      "16/16 [==============================] - 1s 55ms/step - loss: 0.4781 - accuracy: 0.8996 - val_loss: 0.8867 - val_accuracy: 0.8070\n",
      "Epoch 9/20\n",
      "16/16 [==============================] - 1s 50ms/step - loss: 0.4017 - accuracy: 0.9144 - val_loss: 0.8710 - val_accuracy: 0.8050\n",
      "Epoch 10/20\n",
      "16/16 [==============================] - 1s 57ms/step - loss: 0.3454 - accuracy: 0.9253 - val_loss: 0.8570 - val_accuracy: 0.8150\n",
      "Epoch 11/20\n",
      "16/16 [==============================] - 1s 51ms/step - loss: 0.2952 - accuracy: 0.9362 - val_loss: 0.8648 - val_accuracy: 0.8130\n",
      "Epoch 12/20\n",
      "16/16 [==============================] - 1s 60ms/step - loss: 0.2555 - accuracy: 0.9422 - val_loss: 0.8687 - val_accuracy: 0.8110\n",
      "Epoch 13/20\n",
      "16/16 [==============================] - 1s 56ms/step - loss: 0.2246 - accuracy: 0.9476 - val_loss: 0.8737 - val_accuracy: 0.8170\n",
      "Epoch 14/20\n",
      "16/16 [==============================] - 1s 56ms/step - loss: 0.2059 - accuracy: 0.9506 - val_loss: 0.8999 - val_accuracy: 0.8100\n",
      "Epoch 15/20\n",
      "16/16 [==============================] - 1s 53ms/step - loss: 0.1824 - accuracy: 0.9521 - val_loss: 0.8910 - val_accuracy: 0.8140\n",
      "Epoch 16/20\n",
      "16/16 [==============================] - 1s 53ms/step - loss: 0.1705 - accuracy: 0.9514 - val_loss: 0.9312 - val_accuracy: 0.8010\n",
      "Epoch 17/20\n",
      "16/16 [==============================] - 1s 54ms/step - loss: 0.1585 - accuracy: 0.9559 - val_loss: 0.9400 - val_accuracy: 0.7970\n",
      "Epoch 18/20\n",
      "16/16 [==============================] - 1s 54ms/step - loss: 0.1488 - accuracy: 0.9533 - val_loss: 0.9286 - val_accuracy: 0.7970\n",
      "Epoch 19/20\n",
      "16/16 [==============================] - 1s 62ms/step - loss: 0.1429 - accuracy: 0.9570 - val_loss: 0.9105 - val_accuracy: 0.8190\n",
      "Epoch 20/20\n",
      "16/16 [==============================] - 1s 48ms/step - loss: 0.1362 - accuracy: 0.9560 - val_loss: 0.9464 - val_accuracy: 0.7980\n"
     ]
    }
   ],
   "source": [
    "#Create a validation set\n",
    "x_val = x_train[:1000]\n",
    "partial_x_train = x_train[1000:]\n",
    "\n",
    "y_val = one_hot_train_labels[:1000]\n",
    "partial_y_train = one_hot_train_labels[1000:]\n",
    "\n",
    "#Training the network for 20 epochs.\n",
    "history = model.fit(partial_x_train,\n",
    "                    partial_y_train,\n",
    "                    epochs=20,\n",
    "                    batch_size=512,\n",
    "                    validation_data=(x_val, y_val))"
   ]
  },
  {
   "cell_type": "markdown",
   "id": "a3d24d58-871b-40e6-bf1c-7c2c70b703f6",
   "metadata": {},
   "source": [
    "### **Plotting the training and validation loss**"
   ]
  },
  {
   "cell_type": "code",
   "execution_count": 9,
   "id": "28eab336-97da-4a4b-b35d-bb5ffbff17e1",
   "metadata": {},
   "outputs": [
    {
     "data": {
      "image/png": "[encoded data removed]",
      "text/plain": [
       "<Figure size 640x480 with 1 Axes>"
      ]
     },
     "metadata": {},
     "output_type": "display_data"
    }
   ],
   "source": [
    "import matplotlib.pyplot as plt\n",
    "\n",
    "history_dict = history.history\n",
    "loss_values = history_dict['loss']\n",
    "val_loss_values = history_dict['val_loss']\n",
    "\n",
    "epochs = range(1, len(loss_values) + 1)\n",
    "\n",
    "plt.plot(epochs, loss_values, 'bo', label='Training loss')           \n",
    "plt.plot(epochs, val_loss_values, 'b', label='Validation loss')      \n",
    "plt.title('Training and validation loss')\n",
    "plt.xlabel('Epochs')\n",
    "plt.ylabel('Loss')\n",
    "plt.legend()\n",
    "\n",
    "plt.show()"
   ]
  },
  {
   "cell_type": "markdown",
   "id": "df782abb-8266-40fe-b15a-aefce14bada8",
   "metadata": {},
   "source": [
    "### **Plotting the training and validation accuracy**"
   ]
  },
  {
   "cell_type": "code",
   "execution_count": 10,
   "id": "bb5049cf-fd83-44ee-9de2-b80b4fec4090",
   "metadata": {},
   "outputs": [
    {
     "data": {
      "image/png": "[encoded data removed]",
      "text/plain": [
       "<Figure size 640x480 with 1 Axes>"
      ]
     },
     "metadata": {},
     "output_type": "display_data"
    }
   ],
   "source": [
    "plt.clf()                                      \n",
    "acc = history_dict['accuracy']\n",
    "val_acc = history_dict['val_accuracy']\n",
    "\n",
    "plt.plot(epochs, acc, 'bo', label='Training acc')\n",
    "plt.plot(epochs, val_acc, 'b', label='Validation acc')\n",
    "plt.title('Training and validation accuracy')\n",
    "plt.xlabel('Epochs')\n",
    "plt.ylabel('Accuracy')\n",
    "plt.legend()\n",
    "\n",
    "plt.show()"
   ]
  },
  {
   "cell_type": "markdown",
   "id": "e03608bc-eb86-43f5-9ca3-8f03d299b595",
   "metadata": {},
   "source": [
    "At the eleventh epochs we have val_loss: 0.8648 - val_accuracy: 0.8130  \n",
    "The network begins to overfit after eleven epochs in my case. We will train a new network from scratch for eleven epochs and then evaluate it on the test set."
   ]
  },
  {
   "cell_type": "markdown",
   "id": "067aaae2-316c-4014-a38a-883e711c74a2",
   "metadata": {},
   "source": [
    "### **Retraining a model from scratch for eleven epochs**"
   ]
  },
  {
   "cell_type": "code",
   "execution_count": 11,
   "id": "62e56649-3ecd-4c63-a86d-21244a3ad1a5",
   "metadata": {},
   "outputs": [
    {
     "name": "stdout",
     "output_type": "stream",
     "text": [
      "Epoch 1/9\n",
      "16/16 [==============================] - 3s 83ms/step - loss: 2.7846 - accuracy: 0.5008 - val_loss: 1.8748 - val_accuracy: 0.6240\n",
      "Epoch 2/9\n",
      "16/16 [==============================] - 1s 49ms/step - loss: 1.5938 - accuracy: 0.6704 - val_loss: 1.4027 - val_accuracy: 0.6900\n",
      "Epoch 3/9\n",
      "16/16 [==============================] - 1s 50ms/step - loss: 1.2172 - accuracy: 0.7467 - val_loss: 1.2000 - val_accuracy: 0.7410\n",
      "Epoch 4/9\n",
      "16/16 [==============================] - 1s 49ms/step - loss: 0.9882 - accuracy: 0.7918 - val_loss: 1.1320 - val_accuracy: 0.7630\n",
      "Epoch 5/9\n",
      "16/16 [==============================] - 1s 46ms/step - loss: 0.8219 - accuracy: 0.8261 - val_loss: 0.9988 - val_accuracy: 0.7980\n",
      "Epoch 6/9\n",
      "16/16 [==============================] - 1s 48ms/step - loss: 0.6829 - accuracy: 0.8544 - val_loss: 0.9605 - val_accuracy: 0.8000\n",
      "Epoch 7/9\n",
      "16/16 [==============================] - 1s 56ms/step - loss: 0.5706 - accuracy: 0.8766 - val_loss: 0.9141 - val_accuracy: 0.8170\n",
      "Epoch 8/9\n",
      "16/16 [==============================] - 1s 63ms/step - loss: 0.4775 - accuracy: 0.9009 - val_loss: 0.8951 - val_accuracy: 0.8130\n",
      "Epoch 9/9\n",
      "16/16 [==============================] - 1s 54ms/step - loss: 0.4050 - accuracy: 0.9147 - val_loss: 0.8649 - val_accuracy: 0.8130\n",
      "71/71 [==============================] - 1s 5ms/step - loss: 0.9500 - accuracy: 0.7872\n"
     ]
    }
   ],
   "source": [
    "model = models.Sequential()\n",
    "model.add(layers.Dense(64, activation='relu', input_shape=(10000,)))\n",
    "model.add(layers.Dense(64, activation='relu'))\n",
    "model.add(layers.Dense(46, activation='softmax'))\n",
    "\n",
    "model.compile(optimizer='rmsprop',\n",
    "              loss='categorical_crossentropy',\n",
    "              metrics=['accuracy'])\n",
    "model.fit(partial_x_train,\n",
    "          partial_y_train,\n",
    "          epochs=9,\n",
    "          batch_size=512,\n",
    "          validation_data=(x_val, y_val))\n",
    "results = model.evaluate(x_test, one_hot_test_labels)"
   ]
  },
  {
   "cell_type": "code",
   "execution_count": 13,
   "id": "19a2381e-dfb0-4979-8420-33723d2dc6dc",
   "metadata": {},
   "outputs": [
    {
     "name": "stdout",
     "output_type": "stream",
     "text": [
      "Result: [0.9499813914299011, 0.7871772050857544]\n",
      "random model accuracy: 0.18432769367764915\n"
     ]
    }
   ],
   "source": [
    "print(\"Result: \" + str(results))\n",
    "\n",
    "import copy\n",
    "test_labels_copy = copy.copy(test_labels)\n",
    "np.random.shuffle(test_labels_copy)\n",
    "hits_array = np.array(test_labels) == np.array(test_labels_copy)\n",
    "print(\"random model accuracy: \" + str(float(np.sum(hits_array)) / len(test_labels)))\n"
   ]
  },
  {
   "cell_type": "markdown",
   "id": "add6f257-fd48-409f-8bb8-95386f9a7b33",
   "metadata": {},
   "source": [
    "The average loss is about 95% and we have an accuracy of about 79%. The model correctly classified **79%** of the test set examples.  \n",
    "The model appears to have a relatively good performance compared to a random model that achieves only 18% accuracy."
   ]
  },
  {
   "cell_type": "markdown",
   "id": "3cf18c98-7332-4ce0-861f-297fc3a9332b",
   "metadata": {},
   "source": [
    "### **Predictions on new data**"
   ]
  },
  {
   "cell_type": "code",
   "execution_count": 17,
   "id": "6deb98e9-b90b-4635-8ee8-282caa57e681",
   "metadata": {},
   "outputs": [
    {
     "name": "stdout",
     "output_type": "stream",
     "text": [
      "71/71 [==============================] - 0s 3ms/step\n",
      "Result of the prediction for the first newswire: \n",
      "[2.54992221e-04 2.28203280e-04 3.16206115e-06 8.62521112e-01\n",
      " 1.29645512e-01 1.07445867e-05 7.68377678e-04 8.20577679e-06\n",
      " 2.59993481e-04 6.16457110e-05 6.40284488e-05 6.22263644e-04\n",
      " 7.84041913e-05 6.23557484e-04 6.55530239e-05 1.96182173e-05\n",
      " 1.12886110e-03 6.32152369e-05 4.19680619e-05 2.47289805e-04\n",
      " 6.60125341e-04 6.97160431e-05 1.47374226e-06 5.34632476e-04\n",
      " 1.51289623e-05 6.42006926e-05 2.18873402e-06 1.12653266e-04\n",
      " 4.26465303e-05 4.20236538e-05 2.16139917e-04 1.71645210e-04\n",
      " 7.94798470e-05 5.10664086e-06 3.14820063e-04 1.04751889e-05\n",
      " 3.91145266e-04 1.89384737e-05 8.08138211e-05 3.25680623e-04\n",
      " 6.29927454e-05 1.61334719e-05 2.88138881e-06 2.58208802e-05\n",
      " 1.60842501e-05 3.27515608e-07]\n",
      "\n",
      "Dimension of the first newswire prediction:(46,)\n",
      "Sum of the coefficient of this vector prediction: 1.0\n",
      "The class with the highest probability: 3\n"
     ]
    }
   ],
   "source": [
    "predictions = model.predict(x_test)\n",
    "print(\"Result of the prediction for the first newswire: \\n\" + str(predictions[0]))\n",
    "print(\"\\nDimension of the first newswire prediction:\" + str(predictions[0].shape))\n",
    "print(\"Sum of the coefficient of this vector prediction: \" + str(np.sum(predictions[0])))\n",
    "print(\"The class with the highest probability: \" + str(np.argmax(predictions[0])))"
   ]
  },
  {
   "cell_type": "code",
   "execution_count": null,
   "id": "f56e85e4-c0ff-4db2-83df-f76792a79216",
   "metadata": {},
   "outputs": [],
   "source": []
  }
 ],
 "metadata": {
  "kernelspec": {
   "display_name": "Python 3 (ipykernel)",
   "language": "python",
   "name": "python3"
  },
  "language_info": {
   "codemirror_mode": {
    "name": "ipython",
    "version": 3
   },
   "file_extension": ".py",
   "mimetype": "text/x-python",
   "name": "python",
   "nbconvert_exporter": "python",
   "pygments_lexer": "ipython3",
   "version": "3.11.5"
  }
 },
 "nbformat": 4,
 "nbformat_minor": 5
}
