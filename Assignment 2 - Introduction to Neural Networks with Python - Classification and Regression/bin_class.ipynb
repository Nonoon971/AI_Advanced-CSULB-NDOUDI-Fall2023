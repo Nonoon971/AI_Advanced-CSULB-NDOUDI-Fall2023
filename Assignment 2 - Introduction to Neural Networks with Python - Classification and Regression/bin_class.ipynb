{
 "cells": [
  {
   "cell_type": "markdown",
   "id": "8ee93a5a-5485-4a8a-affe-c6bc775d2062",
   "metadata": {},
   "source": [
    "# Classifying movie reviews: a binary classification  \n",
    "_<span style=\"float:right; font-size:12px;\">Norine NDOUDI</span>_"
   ]
  },
  {
   "cell_type": "markdown",
   "id": "4eb55f4a-176a-4aff-93cc-2bff5238447c",
   "metadata": {},
   "source": [
    "### **Loading the IMDB dataset**"
   ]
  },
  {
   "cell_type": "code",
   "execution_count": 2,
   "id": "517fa95c-ab0b-4d90-a2f7-bf15d5638b8b",
   "metadata": {},
   "outputs": [
    {
     "name": "stdout",
     "output_type": "stream",
     "text": [
      "? this has to be one of the worst films of the 1990s when my friends i were watching this film being the target audience it was aimed at we just sat watched the first half an hour with our jaws touching the floor at how bad it really was the rest of the time everyone else in the theatre just started talking to each other leaving or generally crying into their popcorn that they actually paid money they had ? working to watch this feeble excuse for a film it must have looked like a great idea on paper but on film it looks like no one in the film has a clue what is going on crap acting crap costumes i can't get across how ? this is to watch save yourself an hour a bit of your life\n",
      "Negative (0) or Positive (1) review: 0\n",
      "(25000,)\n",
      "(25000,)\n"
     ]
    }
   ],
   "source": [
    "from keras.datasets import imdb\n",
    "\n",
    "#Load the data from the Internet Movie Database\n",
    "(train_data, train_labels), (test_data, test_labels) = imdb.load_data(num_words=10000)\n",
    "\n",
    "#Decoded some reviews\n",
    "word_index = imdb.get_word_index()                                    \n",
    "reverse_word_index = dict([(value, key) for (key, value) in word_index.items()])            \n",
    "decoded_review = ' '.join([reverse_word_index.get(i - 3, '?') for i in train_data[2]])    \n",
    "\n",
    "print(decoded_review)\n",
    "print(\"Negative (0) or Positive (1) review: \" + str(train_labels[2]))\n",
    "print(train_data.shape)\n",
    "print(train_labels.shape)"
   ]
  },
  {
   "cell_type": "markdown",
   "id": "66a1acca-0df5-4c87-aed2-61b1335c171e",
   "metadata": {},
   "source": [
    "### **Preparing the data**"
   ]
  },
  {
   "cell_type": "code",
   "execution_count": 3,
   "id": "23f9fc41-4c03-4bc6-aeef-246170b350ca",
   "metadata": {},
   "outputs": [
    {
     "name": "stdout",
     "output_type": "stream",
     "text": [
      "(25000, 10000)\n",
      "(25000,)\n",
      "10000\n",
      "1.0\n"
     ]
    }
   ],
   "source": [
    "import numpy as np\n",
    "\n",
    "#vectorizing the data, turning the lists of data into tensors.\n",
    "def vectorize_sequences(sequences, dimension=10000):\n",
    "    results = np.zeros((len(sequences), dimension))  \n",
    "    for i, sequence in enumerate(sequences):\n",
    "        results[i, sequence] = 1.                          \n",
    "    return results\n",
    "\n",
    "#Each element of the vector indicates the presence or absence of a specific word among the 10,000 most frequent words in the IMDB dataset.\n",
    "x_train = vectorize_sequences(train_data)                  \n",
    "x_test = vectorize_sequences(test_data)\n",
    "\n",
    "y_train = np.asarray(train_labels).astype('float32')\n",
    "y_test = np.asarray(test_labels).astype('float32')\n",
    "\n",
    "print(x_train.shape)\n",
    "print(y_train.shape)\n",
    "print(len(x_train[24999]))\n",
    "print(y_train[3])"
   ]
  },
  {
   "cell_type": "markdown",
   "id": "4c66d4b7-0d67-42ba-8198-b9cba420d294",
   "metadata": {},
   "source": [
    "### **Building the neural network**"
   ]
  },
  {
   "cell_type": "code",
   "execution_count": 70,
   "id": "3e168dd3-c527-4830-abb3-62cdfd8bd922",
   "metadata": {},
   "outputs": [],
   "source": [
    "from keras import models\n",
    "from keras import layers\n",
    "\n",
    "#Create our mode\n",
    "model = models.Sequential()\n",
    "\n",
    "#Add a fully connected layer of 16 neurons which has for input elements with the dimension of input vectors after vectorization.\n",
    "model.add(layers.Dense(16, activation='relu', input_shape=(10000,)))\n",
    "\n",
    "#Add a second fully connected layer, the data from the first layer is transmitted to this one.\n",
    "model.add(layers.Dense(16, activation='relu'))\n",
    "\n",
    "model.add(layers.Dense(16, activation='relu'))\n",
    "\n",
    "#Add a last layer that will output the scalar prediction between 0 and 1.\n",
    "#The probability that the sentiment of the current review belongs to the positive class.  \n",
    "model.add(layers.Dense(1, activation='sigmoid'))"
   ]
  },
  {
   "cell_type": "markdown",
   "id": "9151a2ba-b7e8-453b-b1f7-e2999c78e909",
   "metadata": {},
   "source": [
    "To try further experiments, I add a third layer to see how doing so affects validation and test accuracy."
   ]
  },
  {
   "cell_type": "markdown",
   "id": "cfebd97b-1fba-43f6-adac-eef10003f868",
   "metadata": {},
   "source": [
    "### **Choosing a loss function and an optimizer**"
   ]
  },
  {
   "cell_type": "code",
   "execution_count": 71,
   "id": "88ebac4b-e9e2-45d8-93e7-afdf8d489357",
   "metadata": {},
   "outputs": [],
   "source": [
    "#Configure the model with the rmsprop optimizer and the binary_crossentropy loss function. \n",
    "model.compile(optimizer='rmsprop',\n",
    "              loss='binary_crossentropy',\n",
    "              metrics=['acc'])"
   ]
  },
  {
   "cell_type": "markdown",
   "id": "4b806463-4bb5-4d75-b2cc-db4d6307466b",
   "metadata": {},
   "source": [
    "### **Training the model**"
   ]
  },
  {
   "cell_type": "code",
   "execution_count": 4,
   "id": "3105f020-5947-427a-9f2b-fb82c99c112a",
   "metadata": {},
   "outputs": [
    {
     "name": "stdout",
     "output_type": "stream",
     "text": [
      "(10000, 10000)\n",
      "(10000,)\n",
      "(15000, 10000)\n",
      "(15000,)\n"
     ]
    }
   ],
   "source": [
    "#Create a validation set\n",
    "x_val = x_train[:10000]\n",
    "partial_x_train = x_train[10000:]\n",
    "y_val = y_train[:10000]\n",
    "partial_y_train = y_train[10000:]\n",
    "\n",
    "print(x_val.shape)\n",
    "print(y_val.shape)\n",
    "print(partial_x_train.shape)\n",
    "print(partial_y_train.shape)\n",
    "\n",
    "history = model.fit(partial_x_train,\n",
    "                    partial_y_train,\n",
    "                    epochs=20,\n",
    "                    batch_size=512,\n",
    "                    validation_data=(x_val, y_val))"
   ]
  },
  {
   "cell_type": "markdown",
   "id": "31347307-00f2-4e84-9989-4a9272381a54",
   "metadata": {},
   "source": [
    "### **Plotting the training and validation loss**"
   ]
  },
  {
   "cell_type": "code",
   "execution_count": 73,
   "id": "fa6cdf71-03af-430c-8d9a-ac92aa621340",
   "metadata": {},
   "outputs": [
    {
     "data": {
      "image/png": "[encoded data removed]",
      "text/plain": [
       "<Figure size 640x480 with 1 Axes>"
      ]
     },
     "metadata": {},
     "output_type": "display_data"
    }
   ],
   "source": [
    "import matplotlib.pyplot as plt\n",
    "\n",
    "history_dict = history.history\n",
    "loss_values = history_dict['loss']\n",
    "val_loss_values = history_dict['val_loss']\n",
    "\n",
    "epochs = range(1, len(loss_values) + 1)\n",
    "\n",
    "plt.plot(epochs, loss_values, 'bo', label='Training loss')           \n",
    "plt.plot(epochs, val_loss_values, 'b', label='Validation loss')      \n",
    "plt.title('Training and validation loss')\n",
    "plt.xlabel('Epochs')\n",
    "plt.ylabel('Loss')\n",
    "plt.legend()\n",
    "\n",
    "plt.show()"
   ]
  },
  {
   "cell_type": "markdown",
   "id": "918c8742-30f3-4fed-bc97-0e0314c3e1ca",
   "metadata": {},
   "source": [
    "### **Plotting the training and validation accuracy**"
   ]
  },
  {
   "cell_type": "code",
   "execution_count": 74,
   "id": "d2ebd2f7-e4c5-492e-8495-1d64d6307992",
   "metadata": {},
   "outputs": [
    {
     "data": {
      "image/png": "[encoded data removed]",
      "text/plain": [
       "<Figure size 640x480 with 1 Axes>"
      ]
     },
     "metadata": {},
     "output_type": "display_data"
    }
   ],
   "source": [
    "plt.clf()                                      \n",
    "acc = history_dict['acc']\n",
    "val_acc = history_dict['val_acc']\n",
    "\n",
    "plt.plot(epochs, acc, 'bo', label='Training acc')\n",
    "plt.plot(epochs, val_acc, 'b', label='Validation acc')\n",
    "plt.title('Training and validation accuracy')\n",
    "plt.xlabel('Epochs')\n",
    "plt.ylabel('Accuracy')\n",
    "plt.legend()\n",
    "\n",
    "plt.show()"
   ]
  },
  {
   "cell_type": "markdown",
   "id": "639446d7-42a5-44fb-a4bc-9784eed576a7",
   "metadata": {},
   "source": [
    "The training loss decreases with every epoch, and the training accuracy increases with every epoch.  \n",
    "However,the validation loss and accuracy seem to peak at about the fourth epoch in my case like the data of the book even with 3 hidden layers.\n",
    "To prevent overfitting, we will stop training after four epochs. So, we will train a new network from scratch for four epochs and then evaluate it on the test data."
   ]
  },
  {
   "cell_type": "markdown",
   "id": "cffde524-d40f-4094-a109-f6c43cba01a2",
   "metadata": {},
   "source": [
    "### **Retraining a model from scratch for four epochs**"
   ]
  },
  {
   "cell_type": "code",
   "execution_count": 79,
   "id": "c455c0db-4b3a-44af-8927-a7730bbb8836",
   "metadata": {},
   "outputs": [
    {
     "name": "stdout",
     "output_type": "stream",
     "text": [
      "Epoch 1/5\n",
      "49/49 [==============================] - 15s 62ms/step - loss: 0.4812 - accuracy: 0.8021\n",
      "Epoch 2/5\n",
      "49/49 [==============================] - 3s 60ms/step - loss: 0.2748 - accuracy: 0.9006\n",
      "Epoch 3/5\n",
      "49/49 [==============================] - 3s 61ms/step - loss: 0.2130 - accuracy: 0.9212\n",
      "Epoch 4/5\n",
      "49/49 [==============================] - 3s 61ms/step - loss: 0.1791 - accuracy: 0.9352\n",
      "Epoch 5/5\n",
      "49/49 [==============================] - 3s 59ms/step - loss: 0.1564 - accuracy: 0.9441\n",
      "782/782 [==============================] - 13s 10ms/step - loss: 0.3062 - accuracy: 0.8815\n"
     ]
    },
    {
     "data": {
      "text/plain": [
       "[0.3061527609825134, 0.8814799785614014]"
      ]
     },
     "execution_count": 79,
     "metadata": {},
     "output_type": "execute_result"
    }
   ],
   "source": [
    "model = models.Sequential()\n",
    "model.add(layers.Dense(16, activation='relu', input_shape=(10000,)))\n",
    "model.add(layers.Dense(16, activation='relu'))\n",
    "model.add(layers.Dense(16, activation='relu'))\n",
    "model.add(layers.Dense(1, activation='sigmoid'))\n",
    "\n",
    "model.compile(optimizer='rmsprop',\n",
    "              loss='binary_crossentropy',\n",
    "              metrics=['accuracy'])\n",
    "\n",
    "model.fit(x_train, y_train, epochs=5, batch_size=512)\n",
    "\n",
    "#Evaluate it on the test data.\n",
    "results = model.evaluate(x_test, y_test)\n",
    "\n",
    "results"
   ]
  },
  {
   "cell_type": "markdown",
   "id": "3b575a9b-033e-420d-bc9f-0505aab61ca4",
   "metadata": {},
   "source": [
    "The average loss is about 29% and we have an accuracy of about 88%. The model correctly classified **88%** of the test set examples.  \n",
    "I tried with more hidden units (32) but it decreased of 1% the accuracy result."
   ]
  },
  {
   "cell_type": "markdown",
   "id": "4c81ac0d-2fc8-4c95-9313-b58b75bb7b23",
   "metadata": {},
   "source": [
    "### **Predictions on new data**"
   ]
  },
  {
   "cell_type": "code",
   "execution_count": 80,
   "id": "5ea28a4f-b15d-41c3-8a55-6b225426b673",
   "metadata": {},
   "outputs": [
    {
     "name": "stdout",
     "output_type": "stream",
     "text": [
      "782/782 [==============================] - 15s 5ms/step\n"
     ]
    },
    {
     "data": {
      "text/plain": [
       "array([[0.1746692 ],\n",
       "       [0.99959546],\n",
       "       [0.8952014 ],\n",
       "       ...,\n",
       "       [0.09493549],\n",
       "       [0.0445327 ],\n",
       "       [0.68113077]], dtype=float32)"
      ]
     },
     "execution_count": 80,
     "metadata": {},
     "output_type": "execute_result"
    }
   ],
   "source": [
    "#Generate the likelihood of reviews being positive\n",
    "model.predict(x_test)"
   ]
  },
  {
   "cell_type": "markdown",
   "id": "a0b73615-8bdb-4a34-857d-8192da31575b",
   "metadata": {},
   "source": [
    "The network is confident for some samples (0.99 or more, or 0.04 or less) but less confident for others (0.6).\n",
    "The first review of the test data would be a negative one and second review a positive one."
   ]
  }
 ],
 "metadata": {
  "kernelspec": {
   "display_name": "Python 3 (ipykernel)",
   "language": "python",
   "name": "python3"
  },
  "language_info": {
   "codemirror_mode": {
    "name": "ipython",
    "version": 3
   },
   "file_extension": ".py",
   "mimetype": "text/x-python",
   "name": "python",
   "nbconvert_exporter": "python",
   "pygments_lexer": "ipython3",
   "version": "3.11.5"
  }
 },
 "nbformat": 4,
 "nbformat_minor": 5
}
