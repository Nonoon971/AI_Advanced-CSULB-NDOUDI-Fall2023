{
 "cells": [
  {
   "cell_type": "markdown",
   "metadata": {},
   "source": [
    "# Assignment 5: Optimization\n",
    "*<span style=\"float:right;\">Norine NDOUDI</span>*\n"
   ]
  },
  {
   "cell_type": "code",
   "execution_count": 46,
   "metadata": {},
   "outputs": [],
   "source": [
    "# Generating a toy dataset.\n",
    "# DO NOT MODIFY THIS PART\n",
    "\n",
    "import numpy as np\n",
    "import math\n",
    "import random as rand\n",
    "\n",
    "paras = list((rand.random() - 0.5 for _ in range(9)))\n",
    "\n",
    "def y_gen(x):\n",
    "    h_11 = math.tanh(paras[0] * x[0] + paras[1] * x[1] + paras[2])\n",
    "    h_12 = math.tanh(paras[3] * x[0] + paras[4] * x[1] + paras[5])\n",
    "    h_21 = 1/(1 + np.exp(-(paras[6] * h_11 + paras[7] * h_12 + paras[8])))\n",
    "    return h_21 + ((rand.random()-0.5)/100 if rand.random()>0.6 else 0)\n",
    "\n",
    "n = 300\n",
    "x = list(zip((rand.random() - 0.5 for _ in range(n)), (rand.random() - 0.5 for _ in range(n))))\n",
    "y = list(map(y_gen, x))\n",
    "y = [(i-min(y))/(max(y)-min(y)) for i in y]"
   ]
  },
  {
   "cell_type": "code",
   "execution_count": 47,
   "metadata": {},
   "outputs": [],
   "source": [
    "# Spliting dataset into training, validation, and test.\n",
    "# DO NOT MODIFY THIS PART\n",
    "\n",
    "from sklearn.model_selection import train_test_split\n",
    "\n",
    "r = 0.25\n",
    "x_train, x_test, y_train, y_test = train_test_split(x, y, test_size=r)\n",
    "\n",
    "x_val = x_train[:int(n*r)]\n",
    "partial_x_train = x_train[int(n*r):]\n",
    "y_val = y_train[:int(n*r)]\n",
    "partial_y_train = y_train[int(n*r):]"
   ]
  },
  {
   "cell_type": "code",
   "execution_count": 48,
   "metadata": {
    "id": "B1td-EhoIB3N"
   },
   "outputs": [],
   "source": [
    "# DO NOT MODIFY THIS PART\n",
    "\n",
    "from keras import models\n",
    "from keras import layers\n",
    "from keras import optimizers\n",
    "\n",
    "def create_model(learning_rate=0.01, beta_1=0.9, beta_2=0.999):\n",
    "    model = models.Sequential()\n",
    "    model.add(layers.Dense(2, activation='tanh', input_shape=(2,)))\n",
    "    model.add(layers.Dense(1, activation='sigmoid'))\n",
    "    model.compile(optimizer=optimizers.Adam(learning_rate=learning_rate, beta_1=beta_1, beta_2=beta_2), loss='mse')\n",
    "    return model"
   ]
  },
  {
   "cell_type": "markdown",
   "metadata": {},
   "source": [
    "I used this [website page](https://adriangb.com/scikeras/stable/generated/scikeras.wrappers.KerasRegressor.html) about KerasRegressor to know how this function works, the same about [GridSearchCV function](https://scikit-learn.org/stable/modules/generated/sklearn.model_selection.GridSearchCV.html) and [this one](https://www.kaggle.com/code/code1110/houseprice-data-cleaning-visualization/notebook) showing GridSearchCV with Keras using KerasRegressor. "
   ]
  },
  {
   "cell_type": "markdown",
   "metadata": {},
   "source": [
    "We will use a default value of epoch for the majority of hyperparameter combinations instead of testing different values of epochs for each hyperparameter combination. So we will include the number of epoch in KerasRegressor function and not in the param grid of GridSearchCV.  \n",
    "I chose a number of 30 epochs because of the runtime but also I found that the loss had already reached a satisfactory level, so I don't need an high value of epoch."
   ]
  },
  {
   "cell_type": "code",
   "execution_count": 49,
   "metadata": {},
   "outputs": [],
   "source": [
    "# Complete the cell to find a best hyper-parameter setting using GridSerachCV\n",
    "\n",
    "#keras.wrapper wasn't working and is deprecated. The module wasn't found so I used the recent one with scikeras\n",
    "from scikeras.wrappers import KerasRegressor\n",
    "from sklearn.model_selection import GridSearchCV\n",
    "\n",
    "#We put the hyperparameters in the create_model function's parameters but without putting them into KerasRegressor element the code gave me an error\n",
    "model = KerasRegressor(model=create_model, learning_rate=0.01, beta_1=0.9, beta_2=0.999, epochs=30, verbose=0)\n",
    "    "
   ]
  },
  {
   "cell_type": "code",
   "execution_count": 50,
   "metadata": {
    "scrolled": true
   },
   "outputs": [
    {
     "data": {
      "text/html": [
       "<style>#sk-container-id-3 {color: black;}#sk-container-id-3 pre{padding: 0;}#sk-container-id-3 div.sk-toggleable {background-color: white;}#sk-container-id-3 label.sk-toggleable__label {cursor: pointer;display: block;width: 100%;margin-bottom: 0;padding: 0.3em;box-sizing: border-box;text-align: center;}#sk-container-id-3 label.sk-toggleable__label-arrow:before {content: \"▸\";float: left;margin-right: 0.25em;color: #696969;}#sk-container-id-3 label.sk-toggleable__label-arrow:hover:before {color: black;}#sk-container-id-3 div.sk-estimator:hover label.sk-toggleable__label-arrow:before {color: black;}#sk-container-id-3 div.sk-toggleable__content {max-height: 0;max-width: 0;overflow: hidden;text-align: left;background-color: #f0f8ff;}#sk-container-id-3 div.sk-toggleable__content pre {margin: 0.2em;color: black;border-radius: 0.25em;background-color: #f0f8ff;}#sk-container-id-3 input.sk-toggleable__control:checked~div.sk-toggleable__content {max-height: 200px;max-width: 100%;overflow: auto;}#sk-container-id-3 input.sk-toggleable__control:checked~label.sk-toggleable__label-arrow:before {content: \"▾\";}#sk-container-id-3 div.sk-estimator input.sk-toggleable__control:checked~label.sk-toggleable__label {background-color: #d4ebff;}#sk-container-id-3 div.sk-label input.sk-toggleable__control:checked~label.sk-toggleable__label {background-color: #d4ebff;}#sk-container-id-3 input.sk-hidden--visually {border: 0;clip: rect(1px 1px 1px 1px);clip: rect(1px, 1px, 1px, 1px);height: 1px;margin: -1px;overflow: hidden;padding: 0;position: absolute;width: 1px;}#sk-container-id-3 div.sk-estimator {font-family: monospace;background-color: #f0f8ff;border: 1px dotted black;border-radius: 0.25em;box-sizing: border-box;margin-bottom: 0.5em;}#sk-container-id-3 div.sk-estimator:hover {background-color: #d4ebff;}#sk-container-id-3 div.sk-parallel-item::after {content: \"\";width: 100%;border-bottom: 1px solid gray;flex-grow: 1;}#sk-container-id-3 div.sk-label:hover label.sk-toggleable__label {background-color: #d4ebff;}#sk-container-id-3 div.sk-serial::before {content: \"\";position: absolute;border-left: 1px solid gray;box-sizing: border-box;top: 0;bottom: 0;left: 50%;z-index: 0;}#sk-container-id-3 div.sk-serial {display: flex;flex-direction: column;align-items: center;background-color: white;padding-right: 0.2em;padding-left: 0.2em;position: relative;}#sk-container-id-3 div.sk-item {position: relative;z-index: 1;}#sk-container-id-3 div.sk-parallel {display: flex;align-items: stretch;justify-content: center;background-color: white;position: relative;}#sk-container-id-3 div.sk-item::before, #sk-container-id-3 div.sk-parallel-item::before {content: \"\";position: absolute;border-left: 1px solid gray;box-sizing: border-box;top: 0;bottom: 0;left: 50%;z-index: -1;}#sk-container-id-3 div.sk-parallel-item {display: flex;flex-direction: column;z-index: 1;position: relative;background-color: white;}#sk-container-id-3 div.sk-parallel-item:first-child::after {align-self: flex-end;width: 50%;}#sk-container-id-3 div.sk-parallel-item:last-child::after {align-self: flex-start;width: 50%;}#sk-container-id-3 div.sk-parallel-item:only-child::after {width: 0;}#sk-container-id-3 div.sk-dashed-wrapped {border: 1px dashed gray;margin: 0 0.4em 0.5em 0.4em;box-sizing: border-box;padding-bottom: 0.4em;background-color: white;}#sk-container-id-3 div.sk-label label {font-family: monospace;font-weight: bold;display: inline-block;line-height: 1.2em;}#sk-container-id-3 div.sk-label-container {text-align: center;}#sk-container-id-3 div.sk-container {/* jupyter's `normalize.less` sets `[hidden] { display: none; }` but bootstrap.min.css set `[hidden] { display: none !important; }` so we also need the `!important` here to be able to override the default hidden behavior on the sphinx rendered scikit-learn.org. See: https://github.com/scikit-learn/scikit-learn/issues/21755 */display: inline-block !important;position: relative;}#sk-container-id-3 div.sk-text-repr-fallback {display: none;}</style><div id=\"sk-container-id-3\" class=\"sk-top-container\"><div class=\"sk-text-repr-fallback\"><pre>GridSearchCV(estimator=KerasRegressor(beta_1=0.9, beta_2=0.999, epochs=30, learning_rate=0.01, model=&lt;function create_model at 0x000001EA5593D3A0&gt;, verbose=0),\n",
       "             param_grid={&#x27;beta_1&#x27;: [0.9, 0.8, 0.7],\n",
       "                         &#x27;beta_2&#x27;: [0.999, 0.99, 0.9],\n",
       "                         &#x27;learning_rate&#x27;: [0.01, 0.001, 0.0001]},\n",
       "             scoring=&#x27;neg_mean_squared_error&#x27;)</pre><b>In a Jupyter environment, please rerun this cell to show the HTML representation or trust the notebook. <br />On GitHub, the HTML representation is unable to render, please try loading this page with nbviewer.org.</b></div><div class=\"sk-container\" hidden><div class=\"sk-item sk-dashed-wrapped\"><div class=\"sk-label-container\"><div class=\"sk-label sk-toggleable\"><input class=\"sk-toggleable__control sk-hidden--visually\" id=\"sk-estimator-id-7\" type=\"checkbox\" ><label for=\"sk-estimator-id-7\" class=\"sk-toggleable__label sk-toggleable__label-arrow\">GridSearchCV</label><div class=\"sk-toggleable__content\"><pre>GridSearchCV(estimator=KerasRegressor(beta_1=0.9, beta_2=0.999, epochs=30, learning_rate=0.01, model=&lt;function create_model at 0x000001EA5593D3A0&gt;, verbose=0),\n",
       "             param_grid={&#x27;beta_1&#x27;: [0.9, 0.8, 0.7],\n",
       "                         &#x27;beta_2&#x27;: [0.999, 0.99, 0.9],\n",
       "                         &#x27;learning_rate&#x27;: [0.01, 0.001, 0.0001]},\n",
       "             scoring=&#x27;neg_mean_squared_error&#x27;)</pre></div></div></div><div class=\"sk-parallel\"><div class=\"sk-parallel-item\"><div class=\"sk-item\"><div class=\"sk-label-container\"><div class=\"sk-label sk-toggleable\"><input class=\"sk-toggleable__control sk-hidden--visually\" id=\"sk-estimator-id-8\" type=\"checkbox\" ><label for=\"sk-estimator-id-8\" class=\"sk-toggleable__label sk-toggleable__label-arrow\">estimator: KerasRegressor</label><div class=\"sk-toggleable__content\"><pre>KerasRegressor(\n",
       "\tmodel=&lt;function create_model at 0x000001EA5593D3A0&gt;\n",
       "\tbuild_fn=None\n",
       "\twarm_start=False\n",
       "\trandom_state=None\n",
       "\toptimizer=rmsprop\n",
       "\tloss=None\n",
       "\tmetrics=None\n",
       "\tbatch_size=None\n",
       "\tvalidation_batch_size=None\n",
       "\tverbose=0\n",
       "\tcallbacks=None\n",
       "\tvalidation_split=0.0\n",
       "\tshuffle=True\n",
       "\trun_eagerly=False\n",
       "\tepochs=30\n",
       "\tlearning_rate=0.01\n",
       "\tbeta_1=0.9\n",
       "\tbeta_2=0.999\n",
       ")</pre></div></div></div><div class=\"sk-serial\"><div class=\"sk-item\"><div class=\"sk-estimator sk-toggleable\"><input class=\"sk-toggleable__control sk-hidden--visually\" id=\"sk-estimator-id-9\" type=\"checkbox\" ><label for=\"sk-estimator-id-9\" class=\"sk-toggleable__label sk-toggleable__label-arrow\">KerasRegressor</label><div class=\"sk-toggleable__content\"><pre>KerasRegressor(\n",
       "\tmodel=&lt;function create_model at 0x000001EA5593D3A0&gt;\n",
       "\tbuild_fn=None\n",
       "\twarm_start=False\n",
       "\trandom_state=None\n",
       "\toptimizer=rmsprop\n",
       "\tloss=None\n",
       "\tmetrics=None\n",
       "\tbatch_size=None\n",
       "\tvalidation_batch_size=None\n",
       "\tverbose=0\n",
       "\tcallbacks=None\n",
       "\tvalidation_split=0.0\n",
       "\tshuffle=True\n",
       "\trun_eagerly=False\n",
       "\tepochs=30\n",
       "\tlearning_rate=0.01\n",
       "\tbeta_1=0.9\n",
       "\tbeta_2=0.999\n",
       ")</pre></div></div></div></div></div></div></div></div></div></div>"
      ],
      "text/plain": [
       "GridSearchCV(estimator=KerasRegressor(beta_1=0.9, beta_2=0.999, epochs=30, learning_rate=0.01, model=<function create_model at 0x000001EA5593D3A0>, verbose=0),\n",
       "             param_grid={'beta_1': [0.9, 0.8, 0.7],\n",
       "                         'beta_2': [0.999, 0.99, 0.9],\n",
       "                         'learning_rate': [0.01, 0.001, 0.0001]},\n",
       "             scoring='neg_mean_squared_error')"
      ]
     },
     "execution_count": 50,
     "metadata": {},
     "output_type": "execute_result"
    }
   ],
   "source": [
    "#Three values for each hyper-parameters\n",
    "learning_rate = [0.01, 0.001, 0.0001]\n",
    "beta_1 = [0.9, 0.8, 0.7]\n",
    "beta_2 = [0.999, 0.99, 0.9]\n",
    "param_grid = dict(learning_rate=learning_rate, beta_1=beta_1, beta_2 = beta_2)\n",
    "\n",
    "gridSearch = GridSearchCV(estimator=model, param_grid=param_grid, scoring='neg_mean_squared_error')\n",
    "gridSearch.fit(partial_x_train, partial_y_train)\n"
   ]
  },
  {
   "cell_type": "code",
   "execution_count": 51,
   "metadata": {},
   "outputs": [
    {
     "name": "stdout",
     "output_type": "stream",
     "text": [
      "-0.013875636505261501 {'beta_1': 0.9, 'beta_2': 0.999, 'learning_rate': 0.01}\n",
      "-0.025365195413928326 {'beta_1': 0.9, 'beta_2': 0.999, 'learning_rate': 0.001}\n",
      "-0.053621081520078905 {'beta_1': 0.9, 'beta_2': 0.999, 'learning_rate': 0.0001}\n",
      "-0.004442773888265942 {'beta_1': 0.9, 'beta_2': 0.99, 'learning_rate': 0.01}\n",
      "-0.0443179138948208 {'beta_1': 0.9, 'beta_2': 0.99, 'learning_rate': 0.001}\n",
      "-0.06015340160127379 {'beta_1': 0.9, 'beta_2': 0.99, 'learning_rate': 0.0001}\n",
      "-0.0033266694153097293 {'beta_1': 0.9, 'beta_2': 0.9, 'learning_rate': 0.01}\n",
      "-0.0436401639837973 {'beta_1': 0.9, 'beta_2': 0.9, 'learning_rate': 0.001}\n",
      "-0.060781831405522714 {'beta_1': 0.9, 'beta_2': 0.9, 'learning_rate': 0.0001}\n",
      "-0.011953090150496346 {'beta_1': 0.8, 'beta_2': 0.999, 'learning_rate': 0.01}\n",
      "-0.05327233487954577 {'beta_1': 0.8, 'beta_2': 0.999, 'learning_rate': 0.001}\n",
      "-0.039339530349926835 {'beta_1': 0.8, 'beta_2': 0.999, 'learning_rate': 0.0001}\n",
      "-0.030246729942194385 {'beta_1': 0.8, 'beta_2': 0.99, 'learning_rate': 0.01}\n",
      "-0.03138540392710344 {'beta_1': 0.8, 'beta_2': 0.99, 'learning_rate': 0.001}\n",
      "-0.037459818858014374 {'beta_1': 0.8, 'beta_2': 0.99, 'learning_rate': 0.0001}\n",
      "-0.006105551620298821 {'beta_1': 0.8, 'beta_2': 0.9, 'learning_rate': 0.01}\n",
      "-0.05403054119318301 {'beta_1': 0.8, 'beta_2': 0.9, 'learning_rate': 0.001}\n",
      "-0.06409969571706266 {'beta_1': 0.8, 'beta_2': 0.9, 'learning_rate': 0.0001}\n",
      "-0.004031561529929044 {'beta_1': 0.7, 'beta_2': 0.999, 'learning_rate': 0.01}\n",
      "-0.039303799396859844 {'beta_1': 0.7, 'beta_2': 0.999, 'learning_rate': 0.001}\n",
      "-0.05544738650469022 {'beta_1': 0.7, 'beta_2': 0.999, 'learning_rate': 0.0001}\n",
      "-0.0045373205623953135 {'beta_1': 0.7, 'beta_2': 0.99, 'learning_rate': 0.01}\n",
      "-0.04522461519609897 {'beta_1': 0.7, 'beta_2': 0.99, 'learning_rate': 0.001}\n",
      "-0.08189464961873566 {'beta_1': 0.7, 'beta_2': 0.99, 'learning_rate': 0.0001}\n",
      "-0.0040471304900193475 {'beta_1': 0.7, 'beta_2': 0.9, 'learning_rate': 0.01}\n",
      "-0.037664988699125254 {'beta_1': 0.7, 'beta_2': 0.9, 'learning_rate': 0.001}\n",
      "-0.055642587292729126 {'beta_1': 0.7, 'beta_2': 0.9, 'learning_rate': 0.0001}\n",
      "\n",
      "Best : -0.0033266694153097293 {'beta_1': 0.9, 'beta_2': 0.9, 'learning_rate': 0.01}\n"
     ]
    }
   ],
   "source": [
    "#Print out the ‘negative mean squared error’ and the corresponding hyper-parameters\n",
    "results = gridSearch.cv_results_\n",
    "for mean, params in zip(results['mean_test_score'], results['params']):\n",
    "    print(f\"{mean} {params}\")\n",
    "\n",
    "#Print out the best result we had and the correspondinf hyper-parameters\n",
    "print(\"\\nBest : \" f\"{gridSearch.best_score_} {gridSearch.best_params_}\")"
   ]
  }
 ],
 "metadata": {
  "colab": {
   "collapsed_sections": [],
   "name": "Assignment 3 scratch.ipynb",
   "provenance": []
  },
  "kernelspec": {
   "display_name": "Python 3 (ipykernel)",
   "language": "python",
   "name": "python3"
  },
  "language_info": {
   "codemirror_mode": {
    "name": "ipython",
    "version": 3
   },
   "file_extension": ".py",
   "mimetype": "text/x-python",
   "name": "python",
   "nbconvert_exporter": "python",
   "pygments_lexer": "ipython3",
   "version": "3.11.5"
  }
 },
 "nbformat": 4,
 "nbformat_minor": 4
}
