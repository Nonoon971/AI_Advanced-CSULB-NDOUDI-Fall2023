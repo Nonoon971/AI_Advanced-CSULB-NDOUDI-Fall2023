{
 "cells": [
  {
   "cell_type": "markdown",
   "metadata": {},
   "source": [
    "# Assignment 3: Neural Net from scratch\n",
    "*<span style=\"float:right;\">Norine NDOUDI</span>*\n"
   ]
  },
  {
   "cell_type": "code",
   "execution_count": 9,
   "metadata": {
    "id": "-8RXCN8X3sC1"
   },
   "outputs": [],
   "source": [
    "# Generating a toy dataset.\n",
    "# DO NOT MODIFY THIS PART\n",
    "\n",
    "import numpy as np\n",
    "import math\n",
    "import random as rand\n",
    "\n",
    "paras = list((rand.random() - 0.5 for _ in range(10)))\n",
    "\n",
    "def y_gen(x):\n",
    "    h_11 = math.tanh(paras[0] * x[0] + paras[1] * x[1] + paras[2])\n",
    "    h_12 = math.tanh(paras[3] * x[0] + paras[4] * x[1] + paras[5])\n",
    "    h_13 = math.tanh(paras[3] * x[0] + paras[4] * x[1] + paras[5])\n",
    "    h_21 = 1/(1 + np.exp(-(paras[6] * h_11 + paras[7] * h_12 + paras[8] * h_13 + paras[9])))\n",
    "    return h_21 + ((rand.random()-0.5)/100 if rand.random()>0.6 else 0)\n",
    "\n",
    "n = 300\n",
    "x = list(zip((rand.random() - 0.5 for _ in range(n)), (rand.random() - 0.5 for _ in range(n))))\n",
    "y = list(map(y_gen, x))\n",
    "y = [(i-min(y))/(max(y)-min(y)) for i in y]"
   ]
  },
  {
   "cell_type": "code",
   "execution_count": 10,
   "metadata": {
    "id": "iBv6iWTe3sC5"
   },
   "outputs": [
    {
     "name": "stdout",
     "output_type": "stream",
     "text": [
      "300\n"
     ]
    }
   ],
   "source": [
    "# Spliting dataset into training, validation, and test.\n",
    "# DO NOT MODIFY THIS PART\n",
    "\n",
    "from sklearn.model_selection import train_test_split\n",
    "\n",
    "r = 0.25\n",
    "x_train, x_test, y_train, y_test = train_test_split(x, y, test_size=r)\n",
    "\n",
    "x_val = x_train[:int(n*r)]\n",
    "partial_x_train = x_train[int(n*r):]\n",
    "y_val = y_train[:int(n*r)]\n",
    "partial_y_train = y_train[int(n*r):]\n",
    "\n",
    "print(len(y))"
   ]
  },
  {
   "cell_type": "markdown",
   "metadata": {
    "editable": true,
    "id": "xcn8r_MF3sC6",
    "slideshow": {
     "slide_type": ""
    },
    "tags": []
   },
   "source": [
    "For a better comprehension, I will write the formulas of some variables\n",
    "\n",
    "$$L(\\vec{W};b)= \\frac{1}{n}\\sum_{\\vec{x}\\in\\vec{X}}(Y-\\hat{Y})^2$$ \n",
    "With n = the number of data point = 300  \n",
    "\n",
    "\n",
    "- $\\vec{a}^1 = \\vec{W}^1 \\times \\vec{X} + \\vec{b}^1$\n",
    "- $\\vec{h}^1 = tanh(\\vec{a}^1$)\n",
    "- $a^2 = \\vec{W}^2 \\times \\vec{h}^1 + b^2$\n",
    "- $h^2 = \\sigma(\\vec{a}^2) = \\hat{y}$\n",
    "\n",
    "And $\\sigma(x) = \\frac{1}{1+e^{-x}}$\n",
    "\n",
    "\n",
    "Formula of bias for layer 2\n",
    "\n",
    "$$\\frac{\\partial L}{\\partial b^2} = \\frac{\\partial L}{\\partial h_{21}}\\frac{\\partial h_{21}}{\\partial a_{21}}\\frac{\\partial a_{21}}{\\partial b^2} =   2\\times(\\hat{y}-y)(1-\\hat{y})\\hat{y}\n",
    "$$\n",
    "\n",
    "Formula of weights of layer 2  \n",
    "$$\\frac{\\partial L}{\\partial \\vec{w}^{\\,(2)}} = \\begin{bmatrix}\n",
    "\\frac{\\partial L}{\\partial w^2_{11}}\\\\\n",
    "\\frac{\\partial L}{\\partial w^2_{21}} \\\\\n",
    "\\frac{\\partial L}{\\partial w^2_{31}}\n",
    "\\end{bmatrix} = \\begin{bmatrix}\n",
    " \\frac{\\partial L}{\\partial h_{21}}\\frac{\\partial h_{21}}{\\partial a_{21}}\\frac{\\partial a_{21}}{\\partial W^2_{11}}\\\\\n",
    " \\frac{\\partial L}{\\partial h_{21}}\\frac{\\partial h_{21}}{\\partial a_{21}}\\frac{\\partial a_{21}}{\\partial W^2_{21}} \\\\\n",
    " \\frac{\\partial L}{\\partial h_{21}}\\frac{\\partial h_{21}}{\\partial a_{21}}\\frac{\\partial a_{21}}{\\partial W^2_{31}}\n",
    "\\end{bmatrix}  = \\begin{bmatrix}\n",
    " 2\\times(\\hat{y}-y)(1-\\hat{y})\\hat{y} \\times h_{11}\\\\\n",
    " 2\\times(\\hat{y}-y)(1-\\hat{y})\\hat{y} \\times h_{12} \\\\\n",
    " 2\\times(\\hat{y}-y)(1-\\hat{y})\\hat{y} \\times h_{13}\n",
    "\\end{bmatrix}\n",
    "$$\n",
    "\n",
    "\n",
    "Formula of biases of layer 1  \n",
    "$$\n",
    "\\frac{\\partial L}{\\partial \\vec{b}^{\\,(1)}} =\\begin{bmatrix}\n",
    "\\frac{\\partial L}{\\partial b^1_1}\\\\\n",
    "\\frac{\\partial L}{\\partial b^1_2}\\\\\n",
    "\\frac{\\partial L}{\\partial b^1_3}\n",
    "\\end{bmatrix}  = \\begin{bmatrix}\n",
    "\\frac{\\partial L}{\\partial h_{11}}\\frac{\\partial h_{11}}{\\partial a_{11}}\\frac{\\partial a_{11}}{\\partial b^1_{1}}\\\\\n",
    "\\frac{\\partial L}{\\partial h_{12}}\\frac{\\partial h_{12}}{\\partial a_{12}}\\frac{\\partial a_{12}}{\\partial b^1_{2}} \\\\\n",
    "\\frac{\\partial L}{\\partial h_{13}}\\frac{\\partial h_{13}}{\\partial a_{13}}\\frac{\\partial a_{13}}{\\partial b^1_{3}}\n",
    "\\end{bmatrix} = \\begin{bmatrix}\n",
    " 2\\times(\\hat{y}-y)(1-\\hat{y})\\hat{y} \\times w^2_{11}(1-(h_{11})^2)\\\\\n",
    " 2\\times(\\hat{y}-y)(1-\\hat{y})\\hat{y} \\times w^2_{21}(1-(h_{12})^2) \\\\\n",
    " 2\\times(\\hat{y}-y)(1-\\hat{y})\\hat{y} \\times w^2_{31}(1-(h_{13})^2)\n",
    "\\end{bmatrix}\n",
    "$$\n",
    "\n",
    "Formula of weights of layer 1\n",
    "  \n",
    "$$\n",
    "\\frac{\\partial L}{\\partial \\vec{W}^{\\,(1)}} =\\begin{bmatrix}\n",
    "\\frac{\\partial L}{\\partial w^1_{11}} & \\frac{\\partial L}{\\partial w^1_{12}} & \\frac{\\partial L}{\\partial w^1_{13}} \\\\\n",
    "\\frac{\\partial L}{\\partial w^1_{21}} & \\frac{\\partial L}{\\partial w^1_{22}}  & \\frac{\\partial L}{\\partial w^1_{23}}\n",
    "\\end{bmatrix} = \\begin{bmatrix}\n",
    "2\\times (\\hat{y}-y)(1-\\hat{y})\\hat{y} \\times w^2_{11}(1-(h_{11})^2)\\times x_{1} && 2\\times (\\hat{y}-y)(1-\\hat{y})\\hat{y} \\times w^2_{21}(1-(h_{12})^2) \\times x_{1} &&2\\times (\\hat{y}-y)(1-\\hat{y})\\hat{y} \\times w^2_{31}(1-(h_{13})^2) \\times x_{1} \\\\\n",
    "2\\times (\\hat{y}-y)(1-\\hat{y})\\hat{y} \\times w^2_{11}(1-(h_{11})^2)\\times x_{2} &&2\\times (\\hat{y}-y)(1-\\hat{y})\\hat{y} \\times w^2_{21}(1-(h_{12})^2) \\times x_{2} &&2\\times (\\hat{y}-y)(1-\\hat{y})\\hat{y} \\times w^2_{31}(1-(h_{13})^2) \\times x_{2}\n",
    "\\end{bmatrix}\n",
    "$$"
   ]
  },
  {
   "cell_type": "markdown",
   "metadata": {},
   "source": [
    "In the first part of the code we can notice during the generation of the params variable that : \n",
    "- $paras[0] = w^1_{11}$\n",
    "- $paras[1] = w^1_{21}$\n",
    "- $paras[2] = b^1_{1}$\n",
    "- $paras[3] = w^1_{12} = w^1_{13}$\n",
    "- $paras[4] = w^1_{22} = w^1_{23}$\n",
    "- $paras[5] = b^1_{2} = b^1_{3}$\n",
    "- $paras[6] = w^2_{11}$\n",
    "- $paras[7] = w^2_{12}$\n",
    "- $paras[8] = w^2_{13}$\n",
    "- $paras[9] = b^2$"
   ]
  },
  {
   "cell_type": "code",
   "execution_count": 11,
   "metadata": {},
   "outputs": [],
   "source": [
    "#Creation of the dictionnary to plot the results\n",
    "history_dict = {\n",
    "    'loss': [],  \n",
    "    'val_loss': []  \n",
    "}\n",
    "\n",
    "#Initialization number of epochs and the learning rate value\n",
    "learning_rate = 0.1\n",
    "num_epochs = 60\n",
    "\n",
    "#Initialization of the weight and bias to update during backpropagation\n",
    "W1_11 = paras[0]\n",
    "W1_21 = paras[1]\n",
    "b1_1 = paras[2]\n",
    "W1_12 = paras[3]\n",
    "W1_13 = paras[3]\n",
    "W1_22 = paras[4]\n",
    "W1_23 = paras[4]\n",
    "b1_2 = paras[5]\n",
    "b1_3 = paras[5]\n",
    "W2_11 = paras[6]\n",
    "W2_12 = paras[7]\n",
    "W2_13 = paras[8]\n",
    "b2 = paras[9]\n",
    "\n",
    "losses = []\n",
    "\n",
    "# Training the network for 60 epochs\n",
    "for epoch in range(num_epochs):\n",
    "    epoch_loss = 0\n",
    "    for i in range(len(partial_x_train)):\n",
    "        x = partial_x_train[i]\n",
    "        y = partial_y_train[i]\n",
    "\n",
    "        # Forward propagation\n",
    "        h_11 = math.tanh(W1_11 * x[0] + W1_21 * x[1] + b1_1)\n",
    "        h_12 = math.tanh(W1_12 * x[0] + W1_22 * x[1] + b1_2 )\n",
    "        h_13 = math.tanh(W1_13 * x[0] + W1_23 * x[1] + b1_3)\n",
    "        h_21 = 1 / (1 + math.exp(-(W2_11 * h_11 + W2_12 * h_12 + W2_13 * h_13 + b2)))\n",
    "\n",
    "        # Loss calculation\n",
    "        loss = (h_21 - y)**2\n",
    "        epoch_loss += loss\n",
    "\n",
    "        # Backpropagation \n",
    "        db2 = 2 * (h_21 - y)*(1 - h_21) * h_21\n",
    "        dW2_11 = db2 * h_11\n",
    "        dW2_12 = db2 * h_12\n",
    "        dW2_13 = db2 * h_13\n",
    "        db1_1 = db2 * paras[6] * (1 - h_11**2)\n",
    "        db1_2 = db2 * paras[7] * (1 - h_12**2)\n",
    "        db1_3 = db2 * paras[8] * (1 - h_13**2)\n",
    "        DW1_11 = db1_1 * x[0]\n",
    "        DW1_21 = db1_1 * x[1]\n",
    "        DW1_12 = db1_2 * x[0]\n",
    "        DW1_22 = db1_2 * x[1]\n",
    "        DW1_13 = db1_3 * x[0]\n",
    "        DW1_23 = db1_3 * x[1]\n",
    "\n",
    "        # Update the weights and bias\n",
    "        W1_11 -= learning_rate * DW1_11\n",
    "        W1_21 -= learning_rate * DW1_21\n",
    "        b1_1 -= learning_rate * db1_1\n",
    "        W1_12 -= learning_rate * DW1_12\n",
    "        W1_13 -= learning_rate * DW1_13\n",
    "        W1_22 -= learning_rate * DW1_22\n",
    "        W1_23 -= learning_rate * DW1_23\n",
    "        b1_2 -= learning_rate * db1_2\n",
    "        b1_3 -= learning_rate * db1_3\n",
    "        W2_11 -= learning_rate * dW2_11\n",
    "        W2_12 -= learning_rate * dW2_12\n",
    "        W2_13 -= learning_rate * dW2_13\n",
    "        b2 -= learning_rate * db2\n",
    "        \n",
    "    #store the training loss for each epoch\n",
    "    history_dict['loss'].append(epoch_loss / len(partial_x_train))\n",
    "\n",
    "    #Do the same for the validatation values\n",
    "    for i in range(len(x_val)):\n",
    "                \n",
    "        x = x_val[i]\n",
    "        y = y_val[i]\n",
    "        \n",
    "        # Forward propagation\n",
    "        h_11 = math.tanh(W1_11 * x[0] + W1_21 * x[1] + b1_1)\n",
    "        h_12 = math.tanh(W1_12 * x[0] + W1_22 * x[1] + b1_2 )\n",
    "        h_13 = math.tanh(W1_13 * x[0] + W1_23 * x[1] + b1_3)\n",
    "        h_21 = 1 / (1 + math.exp(-(W2_11 * h_11 + W2_12 * h_12 + W2_13 * h_13 + b2)))\n",
    "        \n",
    "        # Loss calculation\n",
    "        loss = (h_21 - y)**2\n",
    "        epoch_loss += loss\n",
    "        \n",
    "        # Backpropagation \n",
    "        db2 = 2 * (h_21 - partial_y_train[i])*(1 - h_21) * h_21\n",
    "        dW2_11 = db2 * h_11\n",
    "        dW2_12 = db2 * h_12\n",
    "        dW2_13 = db2 * h_13\n",
    "        db1_1 = db2 * paras[6] * (1 - h_11**2)\n",
    "        db1_2 = db2 * paras[7] * (1 - h_12**2)\n",
    "        db1_3 = db2 * paras[8] * (1 - h_13**2)\n",
    "        DW1_11 = db1_1 * x[0]\n",
    "        DW1_21 = db1_1 * x[1]\n",
    "        DW1_12 = db1_2 * x[0]\n",
    "        DW1_22 = db1_2 * x[1]\n",
    "        DW1_13 = db1_3 * x[0]\n",
    "        DW1_23 = db1_3 * x[1]\n",
    "\n",
    "        # Update the weights and bias\n",
    "        W1_11 -= learning_rate * DW1_11\n",
    "        W1_21 -= learning_rate * DW1_21\n",
    "        b1_1 -= learning_rate * db1_1\n",
    "        W1_12 -= learning_rate * DW1_12\n",
    "        W1_13 -= learning_rate * DW1_13\n",
    "        W1_22 -= learning_rate * DW1_22\n",
    "        W1_23 -= learning_rate * DW1_23\n",
    "        b1_2 -= learning_rate * db1_2\n",
    "        b1_3 -= learning_rate * db1_3\n",
    "        W2_11 -= learning_rate * dW2_11\n",
    "        W2_12 -= learning_rate * dW2_12\n",
    "        W2_13 -= learning_rate * dW2_13\n",
    "        b2 -= learning_rate * db2\n",
    "\n",
    "    #store the validation loss for each epoch\n",
    "    history_dict['val_loss'].append(epoch_loss / len(x_val))\n",
    "    \n",
    "loss_values = history_dict['loss']\n",
    "val_loss_values = history_dict['val_loss']\n",
    "    \n",
    "\n",
    "# return the prediction for a given input.\n",
    "y_pred = []\n",
    "\n",
    "for x in x_test:\n",
    "    h_11 = math.tanh(W1_11 * x[0] + W1_21 * x[1] + b1_1)\n",
    "    h_12 = math.tanh(W1_12 * x[0] + W1_22 * x[1] + b1_2 )\n",
    "    h_13 = math.tanh(W1_13 * x[0] + W1_23 * x[1] + b1_3)\n",
    "    h_21 = 1 / (1 + math.exp(-(W2_11 * h_11 + W2_12 * h_12 + W2_13 * h_13 + b2)))\n",
    "    y_pred.append(h_21)\n"
   ]
  },
  {
   "cell_type": "code",
   "execution_count": 12,
   "metadata": {
    "colab": {
     "base_uri": "https://localhost:8080/",
     "height": 944
    },
    "id": "8cp4pyPw3sDA",
    "outputId": "273ff68a-3fab-4878-f662-6fbb07311725"
   },
   "outputs": [
    {
     "data": {
      "image/png": "[encoded data removed]",
      "text/plain": [
       "<Figure size 640x480 with 1 Axes>"
      ]
     },
     "metadata": {},
     "output_type": "display_data"
    },
    {
     "data": {
      "text/plain": [
       "<matplotlib.collections.PathCollection at 0x1d3a23e0310>"
      ]
     },
     "execution_count": 12,
     "metadata": {},
     "output_type": "execute_result"
    },
    {
     "data": {
      "image/png": "[encoded data removed]",
      "text/plain": [
       "<Figure size 640x480 with 1 Axes>"
      ]
     },
     "metadata": {},
     "output_type": "display_data"
    }
   ],
   "source": [
    "# Visualizing losses and prediction\n",
    "# DO NOT MODIFY THIS PART\n",
    "\n",
    "import matplotlib.pyplot as plt\n",
    "\n",
    "epochs = range(1, len(history_dict['loss']) + 1)\n",
    "\n",
    "plt.plot(epochs, loss_values, 'bo', label='Training loss')\n",
    "plt.plot(epochs, val_loss_values, 'b', label='Validation loss')\n",
    "plt.title('Training and validation loss')\n",
    "plt.xlabel('Epochs')\n",
    "plt.ylabel('Loss')\n",
    "plt.legend()\n",
    "plt.show()\n",
    "\n",
    "plt.title('Scatter Plot')\n",
    "plt.xlabel('True')\n",
    "plt.ylabel('Predict')\n",
    "plt.scatter(y_test, y_pred)"
   ]
  },
  {
   "cell_type": "markdown",
   "metadata": {},
   "source": [
    "Compare to the plot obtained with Keras Library, my plot is a little bit different. Training loss and Validation loss are decreasing. The decrease in validation loss is slightly slower. The decrease of these two elements starting from the 12th epoch becomes slower and eventually becomes stable. This could indicate that the model has learned as much as it could from the training data.  \n",
    "And there is a little gap between the training loss and the validation loss, which may be due to overfitting."
   ]
  }
 ],
 "metadata": {
  "colab": {
   "provenance": []
  },
  "kernelspec": {
   "display_name": "Python 3 (ipykernel)",
   "language": "python",
   "name": "python3"
  },
  "language_info": {
   "codemirror_mode": {
    "name": "ipython",
    "version": 3
   },
   "file_extension": ".py",
   "mimetype": "text/x-python",
   "name": "python",
   "nbconvert_exporter": "python",
   "pygments_lexer": "ipython3",
   "version": "3.11.5"
  }
 },
 "nbformat": 4,
 "nbformat_minor": 4
}
